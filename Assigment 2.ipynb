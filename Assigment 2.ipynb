{
 "cells": [
  {
   "cell_type": "markdown",
   "id": "a443b730-f834-40b3-8680-3b5fcd82000f",
   "metadata": {},
   "source": [
    "Ans1:- String slicing is a techniqe in python whcih is used to extract from string.\n",
    "    We can use square brackects [] along with colon. To start, stop, and step indices of slice.\n",
    "    Examples below:-"
   ]
  },
  {
   "cell_type": "code",
   "execution_count": 4,
   "id": "e7664f55-f347-4c17-a22b-9b2333698766",
   "metadata": {},
   "outputs": [
    {
     "data": {
      "text/plain": [
       "'Diksha'"
      ]
     },
     "execution_count": 4,
     "metadata": {},
     "output_type": "execute_result"
    }
   ],
   "source": [
    "#Slicing of string\n",
    "a = \"Diksha\"\n",
    "a"
   ]
  },
  {
   "cell_type": "code",
   "execution_count": 5,
   "id": "d9ffb16b-354b-4431-8140-1ac487e74bab",
   "metadata": {
    "tags": []
   },
   "outputs": [
    {
     "data": {
      "text/plain": [
       "'D'"
      ]
     },
     "execution_count": 5,
     "metadata": {},
     "output_type": "execute_result"
    }
   ],
   "source": [
    "a[0]"
   ]
  },
  {
   "cell_type": "code",
   "execution_count": 6,
   "id": "b192f62a-a798-4fd0-acd4-84dffb50b7e2",
   "metadata": {},
   "outputs": [
    {
     "data": {
      "text/plain": [
       "'h'"
      ]
     },
     "execution_count": 6,
     "metadata": {},
     "output_type": "execute_result"
    }
   ],
   "source": [
    "a[4]"
   ]
  },
  {
   "cell_type": "code",
   "execution_count": 8,
   "id": "2c041cff-184e-4cc9-88e3-eeeb6482417b",
   "metadata": {},
   "outputs": [
    {
     "data": {
      "text/plain": [
       "'I am a good girl'"
      ]
     },
     "execution_count": 8,
     "metadata": {},
     "output_type": "execute_result"
    }
   ],
   "source": [
    "string1 = \"I am a good girl\"\n",
    "string1"
   ]
  },
  {
   "cell_type": "code",
   "execution_count": 9,
   "id": "93ac09f7-46d7-4846-bc04-bff46e5e1fa5",
   "metadata": {},
   "outputs": [
    {
     "data": {
      "text/plain": [
       "'I am'"
      ]
     },
     "execution_count": 9,
     "metadata": {},
     "output_type": "execute_result"
    }
   ],
   "source": [
    "string1[0:4]"
   ]
  },
  {
   "cell_type": "code",
   "execution_count": 10,
   "id": "2644b92e-e0d3-4b9a-8a9e-66f85476b5ee",
   "metadata": {},
   "outputs": [
    {
     "data": {
      "text/plain": [
       "'a'"
      ]
     },
     "execution_count": 10,
     "metadata": {},
     "output_type": "execute_result"
    }
   ],
   "source": [
    "string1[2:3]"
   ]
  },
  {
   "cell_type": "code",
   "execution_count": 15,
   "id": "4115b2ba-e1d3-417b-850e-1c7cc15b7578",
   "metadata": {},
   "outputs": [
    {
     "data": {
      "text/plain": [
       "'I am a boy'"
      ]
     },
     "execution_count": 15,
     "metadata": {},
     "output_type": "execute_result"
    }
   ],
   "source": [
    "# modification of strings\n",
    "s = \"I am a boy\"\n",
    "s"
   ]
  },
  {
   "cell_type": "code",
   "execution_count": 16,
   "id": "adad9fcd-9b4c-461b-b5ad-e736ca2c44d2",
   "metadata": {},
   "outputs": [
    {
     "data": {
      "text/plain": [
       "'I am a girl'"
      ]
     },
     "execution_count": 16,
     "metadata": {},
     "output_type": "execute_result"
    }
   ],
   "source": [
    "s.replace(\"boy\", \"girl\")"
   ]
  },
  {
   "cell_type": "markdown",
   "id": "b705ec1f-12da-4af3-a734-d08b919a8c93",
   "metadata": {},
   "source": [
    "Ans:2 List are ordered collections of items.They are mutable. \n",
    "Key featurs of list are:-\n",
    "a) Mutable \n",
    "b) indexed Access\n",
    "c) Supports Iteration\n",
    "d) List Comprehensions\n",
    "e) Nested Lists\n",
    "f) Slicing Spport \n",
    "g) Hetrogeneous Support"
   ]
  },
  {
   "cell_type": "markdown",
   "id": "d64c2fae-baf9-4718-b823-c78c6d979434",
   "metadata": {},
   "source": [
    "a) Mutable\n",
    "   examples below"
   ]
  },
  {
   "cell_type": "code",
   "execution_count": 17,
   "id": "b1a4b6e1-7b89-4d3e-93c3-ccf1820f6875",
   "metadata": {},
   "outputs": [],
   "source": [
    "#Mutable \n",
    "grocery_list = [\"Milk\", \"Cheese\", \"Bread\"]"
   ]
  },
  {
   "cell_type": "code",
   "execution_count": 18,
   "id": "811b9784-0619-4460-b84d-9b094fb5482f",
   "metadata": {},
   "outputs": [
    {
     "data": {
      "text/plain": [
       "['Milk', 'Cheese', 'Bread']"
      ]
     },
     "execution_count": 18,
     "metadata": {},
     "output_type": "execute_result"
    }
   ],
   "source": [
    "grocery_list"
   ]
  },
  {
   "cell_type": "code",
   "execution_count": 19,
   "id": "6f1a9f39-6240-4b2d-adf8-bc89626e14d1",
   "metadata": {},
   "outputs": [
    {
     "data": {
      "text/plain": [
       "'Milk'"
      ]
     },
     "execution_count": 19,
     "metadata": {},
     "output_type": "execute_result"
    }
   ],
   "source": [
    "grocery_list[0]"
   ]
  },
  {
   "cell_type": "code",
   "execution_count": 20,
   "id": "dc7ffade-40ad-4f74-98c4-054fe73b90e6",
   "metadata": {},
   "outputs": [
    {
     "data": {
      "text/plain": [
       "['Milk', 'Cheese', 'Bread']"
      ]
     },
     "execution_count": 20,
     "metadata": {},
     "output_type": "execute_result"
    }
   ],
   "source": [
    "grocery_list[0:]"
   ]
  },
  {
   "cell_type": "code",
   "execution_count": 21,
   "id": "d603bffe-ea37-4e91-8499-5b93625fb559",
   "metadata": {},
   "outputs": [
    {
     "data": {
      "text/plain": [
       "['Milk', 'Cheese']"
      ]
     },
     "execution_count": 21,
     "metadata": {},
     "output_type": "execute_result"
    }
   ],
   "source": [
    "grocery_list[0:2]"
   ]
  },
  {
   "cell_type": "markdown",
   "id": "56339629-2c91-49f7-9a44-dc998916258a",
   "metadata": {},
   "source": [
    "b) Indexed Access example below"
   ]
  },
  {
   "cell_type": "code",
   "execution_count": 23,
   "id": "d3686aaf-8e26-4912-bbb7-d3760a52acf1",
   "metadata": {},
   "outputs": [],
   "source": [
    "items = ['egg', 'milk', 'rice']"
   ]
  },
  {
   "cell_type": "code",
   "execution_count": 24,
   "id": "1a4122eb-55a8-4bac-88b0-c003ddefbe72",
   "metadata": {},
   "outputs": [
    {
     "data": {
      "text/plain": [
       "['egg', 'milk', 'rice']"
      ]
     },
     "execution_count": 24,
     "metadata": {},
     "output_type": "execute_result"
    }
   ],
   "source": [
    "items"
   ]
  },
  {
   "cell_type": "code",
   "execution_count": 25,
   "id": "a8fc87d3-550c-493e-993b-4c8f8774ee2e",
   "metadata": {},
   "outputs": [
    {
     "name": "stdout",
     "output_type": "stream",
     "text": [
      "milk\n"
     ]
    }
   ],
   "source": [
    "print(items[1])"
   ]
  },
  {
   "cell_type": "code",
   "execution_count": 27,
   "id": "6935ac64-ff10-4226-9385-f95aa08dc0ee",
   "metadata": {},
   "outputs": [
    {
     "name": "stdout",
     "output_type": "stream",
     "text": [
      "rice\n"
     ]
    }
   ],
   "source": [
    "print(items[-1])"
   ]
  },
  {
   "cell_type": "markdown",
   "id": "c7c155d3-5349-47f7-a366-d24a19af5574",
   "metadata": {},
   "source": [
    "c] Support Iteration examples below"
   ]
  },
  {
   "cell_type": "code",
   "execution_count": 28,
   "id": "665dad1f-d0a4-4e7b-b2ca-6b8d84efb6f7",
   "metadata": {},
   "outputs": [
    {
     "data": {
      "text/plain": [
       "['Apple', 'kiwi', 'Mango']"
      ]
     },
     "execution_count": 28,
     "metadata": {},
     "output_type": "execute_result"
    }
   ],
   "source": [
    "fruits = [\"Apple\", \"kiwi\", \"Mango\"]\n",
    "fruits"
   ]
  },
  {
   "cell_type": "code",
   "execution_count": 29,
   "id": "a854bd7d-1d26-446d-8e9e-02df7c77140c",
   "metadata": {},
   "outputs": [
    {
     "name": "stdout",
     "output_type": "stream",
     "text": [
      "Apple\n",
      "kiwi\n",
      "Mango\n"
     ]
    }
   ],
   "source": [
    "for fruits in ['Apple', 'kiwi', 'Mango']:\n",
    "    print(fruits)"
   ]
  },
  {
   "cell_type": "markdown",
   "id": "6309aef5-cb12-4dc2-a347-44c60fdd7b55",
   "metadata": {},
   "source": [
    "d) List COmprehensions example below:"
   ]
  },
  {
   "cell_type": "code",
   "execution_count": 30,
   "id": "40c26f68-ab49-4b81-ac78-c7af4fa5e207",
   "metadata": {},
   "outputs": [
    {
     "name": "stdout",
     "output_type": "stream",
     "text": [
      "[0, 1]\n"
     ]
    }
   ],
   "source": [
    "squares = [x**3 for x in range(2)]\n",
    "print(squares)"
   ]
  },
  {
   "cell_type": "markdown",
   "id": "99ef5aee-797b-4b25-a432-1e03aec8499a",
   "metadata": {},
   "source": [
    "e) Nested Lists examples below:"
   ]
  },
  {
   "cell_type": "code",
   "execution_count": 32,
   "id": "649c1f94-035e-4435-b8a6-41c81271579b",
   "metadata": {},
   "outputs": [
    {
     "name": "stdout",
     "output_type": "stream",
     "text": [
      "7\n"
     ]
    }
   ],
   "source": [
    "matrix = [[1, 2, 3, 4],[5, 6, 7, 8], [9, 10, 11, 12]]\n",
    "print(matrix[1][2])"
   ]
  },
  {
   "cell_type": "markdown",
   "id": "486020fa-b02f-4953-a2f5-a2846e427c7c",
   "metadata": {},
   "source": [
    "f) slicing Support example below:"
   ]
  },
  {
   "cell_type": "code",
   "execution_count": 33,
   "id": "a192179e-644c-4852-ba94-2e4321fa41eb",
   "metadata": {},
   "outputs": [],
   "source": [
    "names = ['Diksha', 'Ambica', 'Deepu']"
   ]
  },
  {
   "cell_type": "code",
   "execution_count": 35,
   "id": "7be27211-dcbc-4535-a934-7a2e97a6cac6",
   "metadata": {},
   "outputs": [
    {
     "name": "stdout",
     "output_type": "stream",
     "text": [
      "['Ambica', 'Deepu']\n"
     ]
    }
   ],
   "source": [
    "print(names[1:3])"
   ]
  },
  {
   "cell_type": "code",
   "execution_count": 38,
   "id": "1c7a8bb4-6efe-4ab2-b371-e1bddc2aa932",
   "metadata": {},
   "outputs": [
    {
     "name": "stdout",
     "output_type": "stream",
     "text": [
      "['Ambica']\n"
     ]
    }
   ],
   "source": [
    "print(names[1:2])"
   ]
  },
  {
   "cell_type": "markdown",
   "id": "b8ba22fb-7f29-4c65-b68e-236524c016c9",
   "metadata": {},
   "source": [
    "g) hetrogeneous Elements exmaple below:"
   ]
  },
  {
   "cell_type": "code",
   "execution_count": 39,
   "id": "ec68c48a-f0da-4a63-99a8-883ecb856f36",
   "metadata": {},
   "outputs": [
    {
     "name": "stdout",
     "output_type": "stream",
     "text": [
      "[1, 'mango', 5.15]\n"
     ]
    }
   ],
   "source": [
    "mixed_list = [1, \"mango\", 5.15]\n",
    "print(mixed_list)"
   ]
  },
  {
   "cell_type": "markdown",
   "id": "a2060c12-e962-474f-8b25-aafc4044a5cf",
   "metadata": {},
   "source": [
    "Ans3:"
   ]
  },
  {
   "cell_type": "code",
   "execution_count": 47,
   "id": "9bd64533-5622-4e41-a392-d533dfa00a8a",
   "metadata": {},
   "outputs": [],
   "source": [
    "# Access\n",
    "# creating list\n",
    "fruits = ['Apple', 'Mango', 'Kiwi']"
   ]
  },
  {
   "cell_type": "code",
   "execution_count": 41,
   "id": "7cb0f905-7ab3-43dc-918a-81de482af8e6",
   "metadata": {},
   "outputs": [
    {
     "data": {
      "text/plain": [
       "['Apple', 'Mango', 'Kiwi']"
      ]
     },
     "execution_count": 41,
     "metadata": {},
     "output_type": "execute_result"
    }
   ],
   "source": [
    "fruits"
   ]
  },
  {
   "cell_type": "code",
   "execution_count": 42,
   "id": "a0b011cb-1504-4d6b-82c6-6126301fc34b",
   "metadata": {},
   "outputs": [
    {
     "name": "stdout",
     "output_type": "stream",
     "text": [
      "Apple\n"
     ]
    }
   ],
   "source": [
    "# access fruits using +ve indices\n",
    "print(fruits[0])"
   ]
  },
  {
   "cell_type": "code",
   "execution_count": 44,
   "id": "dc28e844-6766-4a2c-88ab-544d2ed1cdfc",
   "metadata": {},
   "outputs": [
    {
     "name": "stdout",
     "output_type": "stream",
     "text": [
      "Mango\n"
     ]
    }
   ],
   "source": [
    "# access fruits using -ve indices\n",
    "print(fruits[-2])"
   ]
  },
  {
   "cell_type": "code",
   "execution_count": 45,
   "id": "61dbe73c-d640-499b-94fe-6b6bef8adef0",
   "metadata": {},
   "outputs": [
    {
     "name": "stdout",
     "output_type": "stream",
     "text": [
      "['Apple', 'Mango']\n"
     ]
    }
   ],
   "source": [
    "# access range of elements using slicing\n",
    "print(fruits[0:2])"
   ]
  },
  {
   "cell_type": "code",
   "execution_count": 48,
   "id": "d742c332-f092-4b87-9db3-bc8ba7764684",
   "metadata": {},
   "outputs": [],
   "source": [
    "# Modify\n",
    "# creating list\n",
    "numbers = [20, 40, 60, 80]"
   ]
  },
  {
   "cell_type": "code",
   "execution_count": 49,
   "id": "443854bc-46a7-4027-b38c-7a24194b0fcf",
   "metadata": {},
   "outputs": [
    {
     "data": {
      "text/plain": [
       "[20, 40, 60, 80]"
      ]
     },
     "execution_count": 49,
     "metadata": {},
     "output_type": "execute_result"
    }
   ],
   "source": [
    "numbers"
   ]
  },
  {
   "cell_type": "code",
   "execution_count": 50,
   "id": "1eb2a38b-3481-4cce-87d9-46efb13c351e",
   "metadata": {},
   "outputs": [
    {
     "data": {
      "text/plain": [
       "40"
      ]
     },
     "execution_count": 50,
     "metadata": {},
     "output_type": "execute_result"
    }
   ],
   "source": [
    "# Modify element by index\n",
    "numbers[1]"
   ]
  },
  {
   "cell_type": "code",
   "execution_count": 51,
   "id": "f095faa0-25a7-48c3-8a0b-24a68a9f2220",
   "metadata": {},
   "outputs": [
    {
     "data": {
      "text/plain": [
       "[60, 80]"
      ]
     },
     "execution_count": 51,
     "metadata": {},
     "output_type": "execute_result"
    }
   ],
   "source": [
    "# modify range of elements \n",
    "numbers[2:4]"
   ]
  },
  {
   "cell_type": "code",
   "execution_count": 52,
   "id": "a6239670-e86f-4494-bf90-e6f6f4cd35fc",
   "metadata": {},
   "outputs": [],
   "source": [
    "# Delete\n",
    "# creating list\n",
    "animals = ['Dog', 'Cat', 'Lion']"
   ]
  },
  {
   "cell_type": "code",
   "execution_count": 53,
   "id": "18930e3a-d92d-47b3-891f-7e33a5c0da43",
   "metadata": {},
   "outputs": [
    {
     "data": {
      "text/plain": [
       "['Dog', 'Cat', 'Lion']"
      ]
     },
     "execution_count": 53,
     "metadata": {},
     "output_type": "execute_result"
    }
   ],
   "source": [
    "animals"
   ]
  },
  {
   "cell_type": "code",
   "execution_count": 58,
   "id": "bbbcd111-81d6-4a02-bc5a-2977a52dc1c6",
   "metadata": {},
   "outputs": [
    {
     "name": "stdout",
     "output_type": "stream",
     "text": [
      "['Dog', 'Lion']\n"
     ]
    }
   ],
   "source": [
    "# deleting an element by index using remove()\n",
    "animals = ['Dog', 'Cat', 'Lion']\n",
    "animals.remove('Cat')\n",
    "print(animals)"
   ]
  },
  {
   "cell_type": "markdown",
   "id": "0f152184-f2c3-458d-955f-c913382e745c",
   "metadata": {},
   "source": [
    "Ans4: Compare and contrast tuples and sets"
   ]
  },
  {
   "cell_type": "code",
   "execution_count": 59,
   "id": "1baa5e7e-0cbe-4255-a5e6-0c93e8de7244",
   "metadata": {},
   "outputs": [],
   "source": [
    "# Tuples are ordered collection of elements . \n",
    "# Tupes are Immutable"
   ]
  },
  {
   "cell_type": "code",
   "execution_count": 60,
   "id": "2d1c1f1b-a708-4550-b56a-82c2f4efb2b4",
   "metadata": {},
   "outputs": [],
   "source": [
    "tuple1 = (\"pwskills\", \"Diksha\")"
   ]
  },
  {
   "cell_type": "code",
   "execution_count": 62,
   "id": "fa066140-05a2-45d6-8646-8b6a86c130e1",
   "metadata": {},
   "outputs": [
    {
     "data": {
      "text/plain": [
       "1"
      ]
     },
     "execution_count": 62,
     "metadata": {},
     "output_type": "execute_result"
    }
   ],
   "source": [
    "tuple1.count(\"Diksha\")"
   ]
  },
  {
   "cell_type": "code",
   "execution_count": 64,
   "id": "996b4c8f-7cc2-4a20-8067-893b308116b8",
   "metadata": {},
   "outputs": [
    {
     "name": "stdout",
     "output_type": "stream",
     "text": [
      "('pwskills', 'Diksha', 'pwskills', 'Diksha')\n"
     ]
    },
    {
     "data": {
      "text/plain": [
       "('pwskills', 'Diksha')"
      ]
     },
     "execution_count": 64,
     "metadata": {},
     "output_type": "execute_result"
    }
   ],
   "source": [
    "tuple1.index(\"Diksha\")\n",
    "print(tuple1*2)\n",
    "tuple1"
   ]
  },
  {
   "cell_type": "code",
   "execution_count": 65,
   "id": "484e70f1-d27a-4b35-9cda-e0460e8a5c74",
   "metadata": {},
   "outputs": [],
   "source": [
    "# Sets are uordered and unique collection of elements\n",
    "# sets are mutable "
   ]
  },
  {
   "cell_type": "code",
   "execution_count": 66,
   "id": "e925dcd4-8be9-4ffe-9d12-19ee6b5bbc2a",
   "metadata": {},
   "outputs": [],
   "source": [
    "s = {1, 2, 3, 4, \"Diksha\", \"pwskills\"}"
   ]
  },
  {
   "cell_type": "code",
   "execution_count": 67,
   "id": "37af890d-3950-422d-8a17-5940d3210026",
   "metadata": {},
   "outputs": [
    {
     "data": {
      "text/plain": [
       "{1, 2, 3, 4, 'Diksha', 'pwskills'}"
      ]
     },
     "execution_count": 67,
     "metadata": {},
     "output_type": "execute_result"
    }
   ],
   "source": [
    "s"
   ]
  },
  {
   "cell_type": "code",
   "execution_count": 68,
   "id": "a64af8f7-188c-4d85-b2ac-ba9a9997770d",
   "metadata": {},
   "outputs": [],
   "source": [
    "s.add(\"Aditya\")"
   ]
  },
  {
   "cell_type": "code",
   "execution_count": 69,
   "id": "9a914674-2897-450d-b0e4-1031a4242c5a",
   "metadata": {},
   "outputs": [
    {
     "data": {
      "text/plain": [
       "{1, 2, 3, 4, 'Aditya', 'Diksha', 'pwskills'}"
      ]
     },
     "execution_count": 69,
     "metadata": {},
     "output_type": "execute_result"
    }
   ],
   "source": [
    "s"
   ]
  },
  {
   "cell_type": "code",
   "execution_count": 70,
   "id": "8646edd3-6978-4b54-ac51-22dd869424ba",
   "metadata": {},
   "outputs": [],
   "source": [
    "s.remove(\"Aditya\")"
   ]
  },
  {
   "cell_type": "code",
   "execution_count": 71,
   "id": "9cb7309b-bcb2-4adb-ae69-f4abe9a65882",
   "metadata": {},
   "outputs": [
    {
     "data": {
      "text/plain": [
       "{1, 2, 3, 4, 'Diksha', 'pwskills'}"
      ]
     },
     "execution_count": 71,
     "metadata": {},
     "output_type": "execute_result"
    }
   ],
   "source": [
    "s"
   ]
  },
  {
   "cell_type": "markdown",
   "id": "db78a585-ea52-4766-a07b-0f08819ecd4b",
   "metadata": {},
   "source": [
    "Ans5:- Key features of sets and examples their"
   ]
  },
  {
   "cell_type": "code",
   "execution_count": 72,
   "id": "bf4febc9-19bb-472f-acc3-1b369b6584c5",
   "metadata": {},
   "outputs": [],
   "source": [
    "s1 = {\"hiking\", \"Dancing\", \"Coding\"}\n",
    "s2 = {\"Coding\", \"trekking\", \"driving\"}"
   ]
  },
  {
   "cell_type": "code",
   "execution_count": 73,
   "id": "f03c585f-759f-4a6f-b377-8f9c999a7724",
   "metadata": {},
   "outputs": [
    {
     "data": {
      "text/plain": [
       "{'Coding', 'Dancing', 'hiking'}"
      ]
     },
     "execution_count": 73,
     "metadata": {},
     "output_type": "execute_result"
    }
   ],
   "source": [
    "s1"
   ]
  },
  {
   "cell_type": "code",
   "execution_count": 74,
   "id": "338f062c-cb14-403c-ab6f-dc6d2c88fd51",
   "metadata": {},
   "outputs": [
    {
     "data": {
      "text/plain": [
       "{'Coding', 'driving', 'trekking'}"
      ]
     },
     "execution_count": 74,
     "metadata": {},
     "output_type": "execute_result"
    }
   ],
   "source": [
    "s2"
   ]
  },
  {
   "cell_type": "code",
   "execution_count": 75,
   "id": "ace27b6d-c978-4c2e-bce2-b7d808c847e6",
   "metadata": {},
   "outputs": [
    {
     "data": {
      "text/plain": [
       "{'Coding', 'Dancing', 'driving', 'hiking', 'trekking'}"
      ]
     },
     "execution_count": 75,
     "metadata": {},
     "output_type": "execute_result"
    }
   ],
   "source": [
    "# Union >> combine all elements\n",
    "s1|s2"
   ]
  },
  {
   "cell_type": "code",
   "execution_count": 76,
   "id": "3af7bece-cf75-4a9d-9602-597b8d5ff987",
   "metadata": {},
   "outputs": [
    {
     "data": {
      "text/plain": [
       "{'Coding'}"
      ]
     },
     "execution_count": 76,
     "metadata": {},
     "output_type": "execute_result"
    }
   ],
   "source": [
    "# intersection >> common elements\n",
    "s1&s2"
   ]
  },
  {
   "cell_type": "code",
   "execution_count": 77,
   "id": "4d97bad0-06ce-4e58-9d12-bcc8c9fe87cf",
   "metadata": {},
   "outputs": [
    {
     "data": {
      "text/plain": [
       "{'Dancing', 'hiking'}"
      ]
     },
     "execution_count": 77,
     "metadata": {},
     "output_type": "execute_result"
    }
   ],
   "source": [
    "# difference \n",
    "s1-s2"
   ]
  },
  {
   "cell_type": "code",
   "execution_count": 78,
   "id": "9fac9d21-24b1-4cd7-98bd-e0c7ea23cc86",
   "metadata": {},
   "outputs": [
    {
     "data": {
      "text/plain": [
       "{'Dancing', 'driving', 'hiking', 'trekking'}"
      ]
     },
     "execution_count": 78,
     "metadata": {},
     "output_type": "execute_result"
    }
   ],
   "source": [
    "# symmetric difference \n",
    "s1^s2"
   ]
  },
  {
   "cell_type": "code",
   "execution_count": 80,
   "id": "aacc9fdd-a40c-42f7-a133-417e0d417b65",
   "metadata": {},
   "outputs": [
    {
     "data": {
      "text/plain": [
       "{1, 2, 3}"
      ]
     },
     "execution_count": 80,
     "metadata": {},
     "output_type": "execute_result"
    }
   ],
   "source": [
    "# frozen sets \n",
    "s = {1, 2, 3}\n",
    "s"
   ]
  },
  {
   "cell_type": "code",
   "execution_count": 81,
   "id": "a328f507-2e85-48c4-9d5a-c80d3e44c836",
   "metadata": {},
   "outputs": [],
   "source": [
    "s.add(90)"
   ]
  },
  {
   "cell_type": "code",
   "execution_count": 82,
   "id": "e3282233-5a85-4ef7-9fe3-fa9bdbed8f37",
   "metadata": {},
   "outputs": [
    {
     "data": {
      "text/plain": [
       "{1, 2, 3, 90}"
      ]
     },
     "execution_count": 82,
     "metadata": {},
     "output_type": "execute_result"
    }
   ],
   "source": [
    "s"
   ]
  },
  {
   "cell_type": "markdown",
   "id": "09867dbd-41f8-493b-bd26-cb99912c524a",
   "metadata": {},
   "source": [
    "Ans6:- Use cases of tuples and sets"
   ]
  },
  {
   "cell_type": "code",
   "execution_count": null,
   "id": "677da700-9cbd-4200-907f-471d7af2f432",
   "metadata": {},
   "outputs": [],
   "source": [
    "# Use cases of tuples"
   ]
  },
  {
   "cell_type": "code",
   "execution_count": 83,
   "id": "9763b8dd-20a3-4dea-a45a-0dcbd10d01ab",
   "metadata": {},
   "outputs": [
    {
     "name": "stdout",
     "output_type": "stream",
     "text": [
      "(2, 6)\n"
     ]
    }
   ],
   "source": [
    "# Immutable Collection \n",
    "point = (2,6)\n",
    "print(point)"
   ]
  },
  {
   "cell_type": "code",
   "execution_count": 87,
   "id": "d7ca98ef-bd19-4593-99af-d5505235f2e4",
   "metadata": {},
   "outputs": [],
   "source": [
    "# Return Values"
   ]
  },
  {
   "cell_type": "code",
   "execution_count": 89,
   "id": "25ab47f4-a4cc-46c5-b95e-2a1fdf86b9f7",
   "metadata": {},
   "outputs": [],
   "source": [
    "def get_user_info():\n",
    "    name = \"Diksha\"\n",
    "    age = 18\n",
    "    return (name, age) # Return values as a tuple"
   ]
  },
  {
   "cell_type": "code",
   "execution_count": 90,
   "id": "4ca65b4c-094e-4711-84ef-51694ab4a5e9",
   "metadata": {},
   "outputs": [
    {
     "name": "stdout",
     "output_type": "stream",
     "text": [
      "('Diksha', 18)\n"
     ]
    }
   ],
   "source": [
    "user_info = get_user_info()\n",
    "print(user_info)"
   ]
  },
  {
   "cell_type": "code",
   "execution_count": 92,
   "id": "8dd97661-2b13-44cb-85f3-a6148f3f3b66",
   "metadata": {},
   "outputs": [
    {
     "name": "stdout",
     "output_type": "stream",
     "text": [
      "Yellow\n",
      "Black\n",
      "White\n"
     ]
    }
   ],
   "source": [
    "# Efficient Iteration:\n",
    "colors = (\"Yellow\", \"Black\", \"White\")\n",
    "for colors in colors :\n",
    "    print(colors)"
   ]
  },
  {
   "cell_type": "code",
   "execution_count": 93,
   "id": "46100cfc-322d-440c-bdea-a8a97ec8007a",
   "metadata": {},
   "outputs": [],
   "source": [
    "# uses cases of sets"
   ]
  },
  {
   "cell_type": "code",
   "execution_count": 95,
   "id": "774b9202-7559-48da-83bb-b8c97f9a234b",
   "metadata": {},
   "outputs": [
    {
     "data": {
      "text/plain": [
       "{1, 2, 3, 'Apple', 'Dragonfruit', 'Mango'}"
      ]
     },
     "execution_count": 95,
     "metadata": {},
     "output_type": "execute_result"
    }
   ],
   "source": [
    "List1 = [1, 2, 3, \"Apple\", \"Dragonfruit\", \"Mango\"]\n",
    "s = set(List1)\n",
    "s"
   ]
  },
  {
   "cell_type": "code",
   "execution_count": 97,
   "id": "3ff6ad2d-9d46-4d0d-aee9-07be86e3f572",
   "metadata": {},
   "outputs": [],
   "source": [
    "s.add(\"egg\")"
   ]
  },
  {
   "cell_type": "code",
   "execution_count": 98,
   "id": "d13730e9-ba0c-4e78-8462-828602be5929",
   "metadata": {},
   "outputs": [
    {
     "data": {
      "text/plain": [
       "{1, 2, 3, 'Apple', 'Dragonfruit', 'Mango', 'egg'}"
      ]
     },
     "execution_count": 98,
     "metadata": {},
     "output_type": "execute_result"
    }
   ],
   "source": [
    "s"
   ]
  },
  {
   "cell_type": "code",
   "execution_count": 99,
   "id": "2bc0f230-1070-49f9-8f1b-c73699add37d",
   "metadata": {},
   "outputs": [],
   "source": [
    "s.clear()"
   ]
  },
  {
   "cell_type": "code",
   "execution_count": 100,
   "id": "a35e240a-2804-43fb-8dd9-7c691f69e18e",
   "metadata": {},
   "outputs": [
    {
     "data": {
      "text/plain": [
       "set()"
      ]
     },
     "execution_count": 100,
     "metadata": {},
     "output_type": "execute_result"
    }
   ],
   "source": [
    "s"
   ]
  },
  {
   "cell_type": "markdown",
   "id": "11fe8392-b571-48c2-b178-84a20c51f74d",
   "metadata": {},
   "source": [
    "Ans 7:- Add , modify and delete in dictionary items"
   ]
  },
  {
   "cell_type": "code",
   "execution_count": null,
   "id": "6ecf24c4-672d-46ae-8584-e2d70df0acbf",
   "metadata": {},
   "outputs": [],
   "source": [
    "# Add"
   ]
  },
  {
   "cell_type": "code",
   "execution_count": 101,
   "id": "7193bbac-46b6-47f8-bb5f-b6b5157ea5fc",
   "metadata": {},
   "outputs": [],
   "source": [
    "# Creating dictionary\n",
    "person = {\"name\":\"Diksha\", \"age\":18}"
   ]
  },
  {
   "cell_type": "code",
   "execution_count": 102,
   "id": "fb395076-6c9c-4e5e-8253-e3dd5fb9b58c",
   "metadata": {},
   "outputs": [
    {
     "data": {
      "text/plain": [
       "{'name': 'Diksha', 'age': 18}"
      ]
     },
     "execution_count": 102,
     "metadata": {},
     "output_type": "execute_result"
    }
   ],
   "source": [
    "person"
   ]
  },
  {
   "cell_type": "code",
   "execution_count": 103,
   "id": "2c4948c3-48f7-4c8c-bdfe-b7d11f30d56b",
   "metadata": {},
   "outputs": [],
   "source": [
    "person[\"city\"] = \"Pune\""
   ]
  },
  {
   "cell_type": "code",
   "execution_count": 104,
   "id": "f27d0c7a-b51e-45cc-bbd3-8263228912e5",
   "metadata": {},
   "outputs": [
    {
     "data": {
      "text/plain": [
       "{'name': 'Diksha', 'age': 18, 'city': 'Pune'}"
      ]
     },
     "execution_count": 104,
     "metadata": {},
     "output_type": "execute_result"
    }
   ],
   "source": [
    "person"
   ]
  },
  {
   "cell_type": "code",
   "execution_count": 110,
   "id": "8be0dfa7-ba8d-4c5c-88a7-466df24f2985",
   "metadata": {},
   "outputs": [],
   "source": [
    "# Modify an key values\n",
    "person[\"age\"] = 17"
   ]
  },
  {
   "cell_type": "code",
   "execution_count": 111,
   "id": "2cdc940b-0aab-4ab5-a36f-291df25bb2b9",
   "metadata": {},
   "outputs": [
    {
     "name": "stdout",
     "output_type": "stream",
     "text": [
      "{'name': 'Diksha', 'age': 17, 'city': 'Pune'}\n"
     ]
    }
   ],
   "source": [
    "print(person)"
   ]
  },
  {
   "cell_type": "code",
   "execution_count": 112,
   "id": "98e7f44d-c479-4588-9f8c-43e688df79e5",
   "metadata": {},
   "outputs": [
    {
     "data": {
      "text/plain": [
       "{'name': 'Diksha', 'age': 17, 'city': 'Pune'}"
      ]
     },
     "execution_count": 112,
     "metadata": {},
     "output_type": "execute_result"
    }
   ],
   "source": [
    "# deleting item using'del'\n",
    "person"
   ]
  },
  {
   "cell_type": "code",
   "execution_count": 113,
   "id": "163b356c-aec0-4a54-a199-e1c4c342e629",
   "metadata": {},
   "outputs": [],
   "source": [
    "del person[\"city\"]"
   ]
  },
  {
   "cell_type": "code",
   "execution_count": 114,
   "id": "a24a2082-fa95-474a-8424-ddb55b1a17f9",
   "metadata": {},
   "outputs": [
    {
     "data": {
      "text/plain": [
       "{'name': 'Diksha', 'age': 17}"
      ]
     },
     "execution_count": 114,
     "metadata": {},
     "output_type": "execute_result"
    }
   ],
   "source": [
    "person"
   ]
  },
  {
   "cell_type": "markdown",
   "id": "37876cc3-1b4b-42c6-b8d3-5455d272be98",
   "metadata": {},
   "source": [
    "Ans 8:- Importance of dictionary keys being immutable "
   ]
  },
  {
   "cell_type": "code",
   "execution_count": 1,
   "id": "10c65846-671e-4572-a3da-06431726a5cc",
   "metadata": {},
   "outputs": [],
   "source": [
    "employee_records ={ \n",
    "'E001':{'name':'Diksha','department':'Engineering','salary':80000},\n",
    "'E002':{'name':'Aditya','department':'Marketing', 'salary':60000},\n",
    "'E003':{'name':'Anju','department':'finance', 'salary':20000}\n",
    "}"
   ]
  },
  {
   "cell_type": "code",
   "execution_count": 2,
   "id": "a3246432-d6f3-4977-9110-286239421665",
   "metadata": {},
   "outputs": [
    {
     "data": {
      "text/plain": [
       "{'E001': {'name': 'Diksha', 'department': 'Engineering', 'salary': 80000},\n",
       " 'E002': {'name': 'Diksha', 'department': 'Marketing', 'salary': 60000},\n",
       " 'E003': {'name': 'Diksha', 'department': 'finance', 'salary': 20000}}"
      ]
     },
     "execution_count": 2,
     "metadata": {},
     "output_type": "execute_result"
    }
   ],
   "source": [
    "employee_records"
   ]
  },
  {
   "cell_type": "code",
   "execution_count": null,
   "id": "35d902f3-c549-4971-aa20-ee0045ef43af",
   "metadata": {},
   "outputs": [],
   "source": [
    "t"
   ]
  }
 ],
 "metadata": {
  "kernelspec": {
   "display_name": "Python 3 (ipykernel)",
   "language": "python",
   "name": "python3"
  },
  "language_info": {
   "codemirror_mode": {
    "name": "ipython",
    "version": 3
   },
   "file_extension": ".py",
   "mimetype": "text/x-python",
   "name": "python",
   "nbconvert_exporter": "python",
   "pygments_lexer": "ipython3",
   "version": "3.10.8"
  }
 },
 "nbformat": 4,
 "nbformat_minor": 5
}
